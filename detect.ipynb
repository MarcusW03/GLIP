{
 "cells": [
  {
   "cell_type": "code",
   "execution_count": null,
   "id": "04db44ad-0853-45ff-9885-f802df652b4a",
   "metadata": {},
   "outputs": [],
   "source": [
    "## imports\n",
    "import glob, os\n",
    "\n",
    "import matplotlib.pyplot as plt\n",
    "import matplotlib.pylab as pylab\n",
    "\n",
    "import requests\n",
    "from io import BytesIO\n",
    "from PIL import Image\n",
    "import numpy as np\n",
    "pylab.rcParams['figure.figsize'] = 20, 12\n",
    "from maskrcnn_benchmark.config import cfg\n",
    "from maskrcnn_benchmark.engine.predictor_glip import GLIPDemo"
   ]
  },
  {
   "cell_type": "code",
   "execution_count": null,
   "id": "c7b136a7-7144-493c-9545-473ae6a60154",
   "metadata": {},
   "outputs": [],
   "source": [
    "def load(file):\n",
    "    pil_image = Image.open(file).convert(\"RGB\")\n",
    "    # convert to BGR format\n",
    "    image = np.array(pil_image)[:, :, [2, 1, 0]]\n",
    "    return image\n",
    "\n",
    "def load_url(url):\n",
    "    \"\"\"\n",
    "    Given an url of an image, downloads the image and\n",
    "    returns a PIL image\n",
    "    \"\"\"\n",
    "    response = requests.get(url)\n",
    "    pil_image = Image.open(BytesIO(response.content)).convert(\"RGB\")\n",
    "    # convert to BGR format\n",
    "    image = np.array(pil_image)[:, :, [2, 1, 0]]\n",
    "    return image\n",
    "\n",
    "def imshow(img, caption):\n",
    "    plt.imshow(img[:, :, [2, 1, 0]])\n",
    "    plt.axis(\"off\")\n",
    "    plt.figtext(0.5, 0.09, caption, wrap=True, horizontalalignment='center', fontsize=20)\n",
    "\n",
    "def imsave(img, path):\n",
    "    plt.imsave(path, img[:, :, [2, 1, 0]])"
   ]
  },
  {
   "cell_type": "code",
   "execution_count": null,
   "id": "6ab25279-8e3e-463f-96c2-f82e07833565",
   "metadata": {},
   "outputs": [],
   "source": [
    "config_file = \"configs/pretrain/glip_Swin_L.yaml\"\n",
    "weight_file = \"MODEL/glip_large_model.pth\"\n",
    "\n",
    "# update the config options with the config file\n",
    "# manual override some options\n",
    "cfg.local_rank = 0\n",
    "cfg.num_gpus = 1\n",
    "cfg.merge_from_file(config_file)\n",
    "cfg.merge_from_list([\"MODEL.WEIGHT\", weight_file])\n",
    "cfg.merge_from_list([\"MODEL.DEVICE\", \"cuda\"])\n",
    "\n",
    "glip_demo = GLIPDemo(\n",
    "    cfg,\n",
    "    min_image_size=800,\n",
    "    confidence_threshold=0.7,\n",
    "    show_mask_heatmaps=False\n",
    ")"
   ]
  },
  {
   "cell_type": "code",
   "execution_count": null,
   "id": "abfcd1a7-3e95-4fc5-ae96-7a240450f667",
   "metadata": {},
   "outputs": [],
   "source": [
    "#caption = 'person . bicycle . car . motorcycle . airplane . bus . train . truck . boat . traffic light . fire hydrant . stop sign . parking meter . bench . bird . cat . dog . horse . sheep . cow . elephant . bear . zebra . giraffe . backpack . umbrella . handbag . tie . suitcase . frisbee . skis . snowboard . sports ball . kite . baseball bat . baseball glove . skateboard . surfboard . tennis racket . bottle . wine glass . cup . fork . knife . spoon . bowl . banana . apple . sandwich . orange . broccoli . carrot . hot dog . pizza . donut . cake . chair . couch . potted plant . bed . dining table . toilet . tv . laptop . mouse . remote . keyboard . cell phone . microwave . oven . toaster . sink . refrigerator . book . clock . vase . scissors . teddy bear . hair drier . toothbrush .'\n",
    "#caption = ['man in back wearing grey shirt . women walking in background . ', 'man in yellow shirt . blue shirt . ']\n",
    "caption = ['brown tray on the table . ', 'men in far right in blue shirt . men in far right in black shirt . ', 'player in the far left back in red shirt . ']"
   ]
  },
  {
   "cell_type": "code",
   "execution_count": null,
   "id": "2ec73d2a-fa6e-48d6-9fe3-f3aa6a89e63e",
   "metadata": {},
   "outputs": [],
   "source": [
    "#for files in [glob.glob(e) for e in ['INPUT/*.jpg', 'INPUT/*.png', 'INPUT/*.JPG', 'INPUT/*.PNG']]:\n",
    "# for files in [glob.glob(e) for e in ['INPUT/*.png']]:\n",
    "files = ['INPUT/couch.png', 'INPUT/gym.png', 'INPUT/players.png']\n",
    "for i, file in enumerate(files):\n",
    "    image = load(file)\n",
    "    result, _ = glip_demo.run_on_web_image(image, caption[i], 0.5)\n",
    "    #imshow(result, caption)\n",
    "    imsave(result, \"RESULTS/\"+file.split(\"/\")[-1])"
   ]
  },
  {
   "cell_type": "code",
   "execution_count": null,
   "id": "ade171d9-3587-4400-9ab3-47ecac4b0627",
   "metadata": {},
   "outputs": [],
   "source": []
  },
  {
   "cell_type": "code",
   "execution_count": null,
   "id": "249410c1-9052-4488-8ae7-b493c97e0ddd",
   "metadata": {},
   "outputs": [],
   "source": []
  }
 ],
 "metadata": {
  "kernelspec": {
   "display_name": "Python 3 (ipykernel)",
   "language": "python",
   "name": "python3"
  },
  "language_info": {
   "codemirror_mode": {
    "name": "ipython",
    "version": 3
   },
   "file_extension": ".py",
   "mimetype": "text/x-python",
   "name": "python",
   "nbconvert_exporter": "python",
   "pygments_lexer": "ipython3",
   "version": "3.8.13"
  }
 },
 "nbformat": 4,
 "nbformat_minor": 5
}
